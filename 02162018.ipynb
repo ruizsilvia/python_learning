{
 "cells": [
  {
   "cell_type": "markdown",
   "metadata": {},
   "source": [
    "# Summary \n",
    "\n",
    "Task 10: Different Python Exercises"
   ]
  },
  {
   "cell_type": "code",
   "execution_count": 4,
   "metadata": {},
   "outputs": [
    {
     "data": {
      "text/plain": [
       "[3, 8, 9]"
      ]
     },
     "execution_count": 4,
     "metadata": {},
     "output_type": "execute_result"
    }
   ],
   "source": [
    "## Write each function below according to the docstring.\n",
    "\n",
    "\n",
    "def max_lists(list1, list2):\n",
    "    \"\"\"\n",
    "    list1 and list2 have the same length.\n",
    "    Return a list which contains, for each index,\n",
    "    the maximum element of both list at this index.\n",
    "\n",
    "    Parameters\n",
    "    ----------\n",
    "    list1 : {list} of numeric values\n",
    "    list2 : {list} of numeric values\n",
    "\n",
    "    Returns\n",
    "    -------\n",
    "    {list} : list of maximum values for each index of list1,list2\n",
    "\n",
    "    Example\n",
    "    -------\n",
    "    >>> max_lists([1, 4, 8], [3, 1, 9])\n",
    "    [3, 4, 9]\n",
    "    >>> max_lists([5, 7, 2, 3, 6], [3, 9, 1, 2, 8])\n",
    "    [5, 9, 2, 3, 8]\n",
    "    \"\"\"\n",
    "    final_list = [len(list1), max(list1), max(list2)]\n",
    "    return final_list\n",
    "\n",
    "max_lists([1, 4, 8], [3, 1, 9])\n",
    "\n",
    "# question: I don't think I understand what \"index\" means... "
   ]
  },
  {
   "cell_type": "code",
   "execution_count": 5,
   "metadata": {},
   "outputs": [
    {
     "data": {
      "text/plain": [
       "array([1, 4])"
      ]
     },
     "execution_count": 5,
     "metadata": {},
     "output_type": "execute_result"
    }
   ],
   "source": [
    "def get_diagonal(mat):\n",
    "    \"\"\"\n",
    "    Given a matrix encoded as a 2 dimensional python list, return a list\n",
    "    containing all the values in the diagonal starting at the index 0, 0.\n",
    "\n",
    "    Parameters\n",
    "    ----------\n",
    "    mat : 2 dimensional list ({list} of {list} of numeric values)\n",
    "\n",
    "    Returns\n",
    "    -------\n",
    "    {list} : values in the diagonal\n",
    "\n",
    "    Example\n",
    "    -------\n",
    "    E.g.\n",
    "    mat = [[1, 2], [3, 4], [5, 6]]\n",
    "    | 1  2 |\n",
    "    | 3  4 |\n",
    "    | 5  6 |\n",
    "    get_diagonal(mat) => [1, 4]\n",
    "\n",
    "    You may assume that the matrix is nonempty.\n",
    "\n",
    "    >>> get_diagonal([[1, 2], [3, 4], [5, 6]])\n",
    "    [1, 4]\n",
    "    \"\"\"\n",
    "    \n",
    "    import numpy as np\n",
    "    return np.diagonal(mat)\n",
    "\n",
    "get_diagonal([[1, 2], [3, 4], [5, 6]])\n",
    "\n",
    "#do we need to do anything else with this array? Should it just return the list?"
   ]
  },
  {
   "cell_type": "code",
   "execution_count": 12,
   "metadata": {},
   "outputs": [
    {
     "data": {
      "text/plain": [
       "Counter({'a': 1, 'b': 7, 'c': 6, 'd': 10, 'e': 8, 'f': 6})"
      ]
     },
     "execution_count": 12,
     "metadata": {},
     "output_type": "execute_result"
    }
   ],
   "source": [
    "def merge_dictionaries(d1, d2):\n",
    "    \"\"\"\n",
    "    Return a new dictionary which contains all the keys from d1 and d2 with\n",
    "    their associated values. If a key is in both dictionaries, the value should\n",
    "    be the sum of the two values.\n",
    "\n",
    "    Parameters\n",
    "    ----------\n",
    "    d1 : {dict}\n",
    "    d2 : {dict}\n",
    "\n",
    "    Returns\n",
    "    -------\n",
    "    {dict} : values in the diagonal\n",
    "\n",
    "    Example\n",
    "    -------\n",
    "    >>> d1 = {\"a\": 1, \"b\": 5, \"c\": 1, \"e\": 8}\n",
    "    >>> d2 = {\"b\": 2, \"c\": 5, \"d\": 10, \"f\": 6}\n",
    "    >>> merge_dictionaries(d1,d2) == {\"a\": 1, \"b\": 7, \"c\": 6, \"d\": 10, \"e\": 8, \"f\": 6}\n",
    "    True\n",
    "    \"\"\"\n",
    "    # first attempt... unsuccessful lol\n",
    "    #for key in d2.keys():\n",
    "     #   if key not in d1:\n",
    "      #      d1.update(d2)\n",
    "       # else:\n",
    "        #    d1.values() += d2.values()\n",
    "    \n",
    "    \n",
    "    # Should I use defaultdict and then add the values in the list of each key\n",
    "    from collections import Counter\n",
    "    \n",
    "    merged_dic = Counter(d1) + Counter(d2)\n",
    "    return merged_dic\n",
    "\n",
    "d1 = {\"a\": 1, \"b\": 5, \"c\": 1, \"e\": 8}\n",
    "d2 = {\"b\": 2, \"c\": 5, \"d\": 10, \"f\": 6}\n",
    "merge_dictionaries(d1,d2)"
   ]
  },
  {
   "cell_type": "code",
   "execution_count": 6,
   "metadata": {},
   "outputs": [
    {
     "name": "stdout",
     "output_type": "stream",
     "text": [
      "['a', 'b', 'c', 'e']\n",
      "[1, 5, 1, 8]\n",
      "[('a', 1), ('b', 5), ('c', 1), ('e', 8)]\n"
     ]
    }
   ],
   "source": [
    "# learning about dictionaries\n",
    "\n",
    "d1 = {\"a\": 1, \"b\": 5, \"c\": 1, \"e\": 8}\n",
    "d2 = {\"b\": 2, \"c\": 5, \"d\": 10, \"f\": 6}\n",
    "\n",
    "print(list(d1.keys())[::]) #niiiiiice\n",
    "print(list(d1.values())[::])\n",
    "print(list(d1.items())[::])"
   ]
  },
  {
   "cell_type": "code",
   "execution_count": 16,
   "metadata": {},
   "outputs": [
    {
     "data": {
      "text/plain": [
       "['\\n']"
      ]
     },
     "execution_count": 16,
     "metadata": {},
     "output_type": "execute_result"
    }
   ],
   "source": [
    "def make_char_dict(filename):\n",
    "    \"\"\"\n",
    "    Given a file containing rows of text, create a dictionary with keys\n",
    "    of single characters. The value is a list of all the line numbers which\n",
    "    start with that letter. The first line should have line number 1.\n",
    "    Characters which never are the first letter of a line do not need to be\n",
    "    included in your dictionary.\n",
    "\n",
    "    Parameters\n",
    "    ----------\n",
    "    filename : {string} indicating path to file\n",
    "\n",
    "    Returns\n",
    "    -------\n",
    "    {dict} : keys are {str} and values are {list}\n",
    "\n",
    "    Example\n",
    "    -------\n",
    "    >>> result = make_char_dict('data/people.txt')\n",
    "    >>> result['j']\n",
    "    [2, 19, 20]\n",
    "    >>> result['g']\n",
    "    [3]\n",
    "    \"\"\"\n",
    "    \n",
    "    _file=open('filename.txt','r')\n",
    "for line in _file.readlines():\n",
    "\tprint line[0]\n",
    "    \n",
    "    with open('genesis.txt') as f:\n",
    "        read_data = f.read()\n",
    "    \n",
    "    for line in read_data:\n",
    "        first_char = list(line[0])\n",
    "    return first_char\n",
    "    \n",
    "    #WIP\n",
    "make_char_dict('genesis.txt')"
   ]
  },
  {
   "cell_type": "code",
   "execution_count": null,
   "metadata": {
    "collapsed": true
   },
   "outputs": [],
   "source": []
  }
 ],
 "metadata": {
  "kernelspec": {
   "display_name": "Python 3",
   "language": "python",
   "name": "python3"
  },
  "language_info": {
   "codemirror_mode": {
    "name": "ipython",
    "version": 3
   },
   "file_extension": ".py",
   "mimetype": "text/x-python",
   "name": "python",
   "nbconvert_exporter": "python",
   "pygments_lexer": "ipython3",
   "version": "3.6.3"
  }
 },
 "nbformat": 4,
 "nbformat_minor": 2
}
