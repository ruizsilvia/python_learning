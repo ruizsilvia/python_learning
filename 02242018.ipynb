{
 "cells": [
  {
   "cell_type": "markdown",
   "metadata": {},
   "source": [
    "# Task 12\n",
    "Qs4 : Google decides to do random drug tests for heroin on their employees. They know that 3% of their population uses heroin. The drug test has the following accuracy: The test correctly identifies 95% of the heroin users (sensitivity) and 90% of the non-users (specificity).\n",
    "\n",
    "Uses heroin\tDoesn't use heroin\n",
    "Tests positive\t0.95\t0.10\n",
    "Tests negative\t0.05\t0.90\n",
    "\n",
    "Alice gets tested and the test comes back positive. What is the probability that she uses heroin?\n",
    "\n",
    "Qs5: The Birthday Problem. Suppose there are 23 people in a data science class, lined up in a single file line.\n",
    "Let A_i be the event that the i'th person doesn't have the same birthday as the j'th person for any j < i.\n",
    "Use the chain rule from probability to calculate the probability that at least 2 people share the same birthday."
   ]
  },
  {
   "cell_type": "code",
   "execution_count": 1,
   "metadata": {},
   "outputs": [
    {
     "data": {
      "text/plain": [
       "0.22709163346613548"
      ]
     },
     "execution_count": 1,
     "metadata": {},
     "output_type": "execute_result"
    }
   ],
   "source": [
    "def heroin_test(base, sensitivity, specificity):\n",
    "    positive_test = base * sensitivity + (1 - base)*(1 - specificity)\n",
    "    true_result = (base * sensitivity) / positive_test\n",
    "    return true_result\n",
    "\n",
    "heroin_test(0.03, 0.95, 0.90)"
   ]
  },
  {
   "cell_type": "code",
   "execution_count": 2,
   "metadata": {},
   "outputs": [
    {
     "data": {
      "text/plain": [
       "0.4927027656760146"
      ]
     },
     "execution_count": 2,
     "metadata": {},
     "output_type": "execute_result"
    }
   ],
   "source": [
    "import math\n",
    "\n",
    "def birthday(num_of_people):\n",
    "    sharing_prob = (math.factorial(365) / math.factorial(365 - num_of_people)) / 365 ** num_of_people\n",
    "    return sharing_prob\n",
    "\n",
    "birthday(23)"
   ]
  },
  {
   "cell_type": "markdown",
   "metadata": {},
   "source": [
    "# Task 13\n",
    "For each of the following distributions:\n",
    "Bernoulli\n",
    "Binomial\n",
    "Poisson\n",
    "Gaussian\n",
    "Uniform\n",
    "Beta\n",
    "\n",
    "A) Read up on what the formula for the probability distribution is and what sorts of problems it is used for\n",
    "B) use Python, matplotlib and the scipy.stats to plot at least 2 unique parameters(or sets of parameters) for each distribution\n",
    "C) Wrte a blog post summarizing A and B above for at least 3 of the distributions, post online, and provide a link to the comments by 6pm today. \n",
    "\n",
    "You may use the entire internet to figure out what these distributions do. \n",
    "\n",
    "Note: Here are examples of a  sample short blog post here, just for reference \n",
    "(http://muthu.co/poisson-distribution-with-python/) (http://hamelg.blogspot.com/2015/11/python-for-data-analysis-part-22.html). \n",
    "You do not have to follow these models if you don't want to. Also, you don't have to write the formula, you can just provide your simple graphing code and a reference link to the formula (for example, from wikipedia)"
   ]
  },
  {
   "cell_type": "markdown",
   "metadata": {},
   "source": [
    "## graphing notes\n",
    "\n",
    "importing stuff:\n",
    "    import matplotlib.pyplot as plt\n",
    "    import numpy as np\n",
    "    from scipy.stats import poisson\n",
    "\n",
    "Graphing stuff:\n",
    "    plt.plot(x,y, 'formatting instructions') where x, y can be lots of things\n",
    "    plt.show() -> to actually graph it (at the end)\n",
    "\n",
    "Making the graph pretty:\n",
    "    plt.ylabel('this is the y-axis')\n",
    "    plt.xlabel('this is the x-axis')\n",
    "    plt.title('this is the title')\n",
    "\n",
    "formatting the lines:\n",
    "    https://matplotlib.org/api/_as_gen/matplotlib.pyplot.plot.html#matplotlib.pyplot.plot\n",
    "    The third parameter in .plot\n",
    "\n",
    "subplot:\n",
    "    I think the purpose of this is to share axis\n",
    "    \n",
    "Graphing distributions:\n",
    "    poisson: https://docs.scipy.org/doc/scipy/reference/generated/scipy.stats.poisson.html#scipy.stats.poisson\n",
    "    Notes - pmf(k, mu, loc=0) graphs the probability mass function. mu is lambda. k is the number of events.\n",
    "        example:http://muthu.co/poisson-distribution-with-python/\n",
    "    "
   ]
  },
  {
   "cell_type": "markdown",
   "metadata": {},
   "source": [
    "## Distribution 1: Poisson"
   ]
  },
  {
   "cell_type": "code",
   "execution_count": 9,
   "metadata": {},
   "outputs": [
    {
     "data": {
      "image/png": "[encoded data removed]",
      "text/plain": [
       "<matplotlib.figure.Figure at 0x1a18966978>"
      ]
     },
     "metadata": {},
     "output_type": "display_data"
    }
   ],
   "source": [
    "# from previous example\n",
    "from scipy.stats import poisson\n",
    "import matplotlib.pyplot as plt\n",
    "\n",
    "plt.ylabel('Probability of car passing')\n",
    "plt.xlabel('Number of cars')\n",
    "plt.title('Probability Distribution Curve')\n",
    "arr = []\n",
    "rv = poisson(25)\n",
    "for num in range(0,40):\n",
    " arr.append(rv.pmf(num))\n",
    " \n",
    "# print(rv.pmf(28))\n",
    "prob = rv.pmf(28) # this apparently freezes the function\n",
    "plt.grid(True)\n",
    "plt.plot(arr, linewidth=2.0)\n",
    "plt.plot([28], [prob], marker='o', markersize=8, color=\"red\")\n",
    "plt.show()"
   ]
  },
  {
   "cell_type": "code",
   "execution_count": null,
   "metadata": {
    "collapsed": true
   },
   "outputs": [],
   "source": [
    "# new example\n",
    "\n",
    "from scipy.stats import poisson\n",
    "import matplotlib.pyplot as plt\n",
    "\n",
    "plt.ylabel('Probability of car passing')\n",
    "plt.xlabel('Number of cars')\n",
    "plt.title('Probability Distribution Curve')\n",
    "arr = []\n",
    "rv = poisson(25)\n",
    "for num in range(0,40):\n",
    " arr.append(rv.pmf(num))\n",
    " \n",
    "# print(rv.pmf(28))\n",
    "prob = rv.pmf(28)\n",
    "plt.grid(True)\n",
    "plt.plot(arr, linewidth=2.0)\n",
    "plt.plot([28], [prob], marker='o', markersize=8, color=\"red\")\n",
    "plt.show()"
   ]
  },
  {
   "cell_type": "markdown",
   "metadata": {},
   "source": [
    "## Distribution 2: Binomial"
   ]
  },
  {
   "cell_type": "code",
   "execution_count": null,
   "metadata": {
    "collapsed": true
   },
   "outputs": [],
   "source": [
    "from scipy.stats import poisson\n",
    "import matplotlib.pyplot as plt\n",
    "\n",
    "x = np.arange(binom.ppf(0.01, n, p),\n",
    "...               binom.ppf(0.99, n, p))\n",
    "ax.plot(x, binom.pmf(x, n, p), 'bo', ms=8, label='binom pmf')"
   ]
  },
  {
   "cell_type": "code",
   "execution_count": 24,
   "metadata": {},
   "outputs": [
    {
     "data": {
      "image/png": "[encoded data removed]",
      "text/plain": [
       "<matplotlib.figure.Figure at 0x1a192c1128>"
      ]
     },
     "metadata": {},
     "output_type": "display_data"
    }
   ],
   "source": [
    "import matplotlib.pyplot as plt\n",
    "import numpy as np\n",
    "\n",
    "\n",
    "x_data = np.arange(0, 4, .01)\n",
    "# the y-axis adjusts to your input\n",
    "y_data = np.sin(x_data)\n",
    "plt.plot(x_data, y_data, 'r--') #the third parameter is all for formatting\n",
    "                                # more on formatting: https://matplotlib.org/api/_as_gen/matplotlib.pyplot.plot.html#matplotlib.pyplot.plot\n",
    "\n",
    "plt.ylabel('this is the y-axis')\n",
    "plt.xlabel('this is the x-axis')\n",
    "plt.title('this is the title')\n",
    "\n",
    "plt.show()"
   ]
  },
  {
   "cell_type": "markdown",
   "metadata": {},
   "source": [
    "# Distribution 3: Exponential"
   ]
  },
  {
   "cell_type": "code",
   "execution_count": 25,
   "metadata": {},
   "outputs": [
    {
     "data": {
      "image/png": "[encoded data removed]",
      "text/plain": [
       "<matplotlib.figure.Figure at 0x1a1953e438>"
      ]
     },
     "metadata": {},
     "output_type": "display_data"
    }
   ],
   "source": [
    "import numpy as np\n",
    "import matplotlib.pyplot as plt\n",
    "\n",
    "#defining x and y\n",
    "t = np.linspace(-10, 10, 100)\n",
    "sig = 1 / (1 + np.exp(-t))\n",
    "\n",
    "#graphing the data\n",
    "plt.plot(t, sig, \"b-\", linewidth=2, label=r\"$\\sigma(t) = \\frac{1}{1 + e^{-t}}$\") #graphing x and y, with formatting and the formula box\n",
    "plt.xlabel(\"t\") #labeling the x axis\n",
    "plt.legend(loc=\"upper left\", fontsize=20) #where to put the legend\n",
    "plt.axis([-10, 10, -0.1, 1.1]) # plt.axis[xmin, xmax, ymin, ymax]\n",
    "\n",
    "plt.show()"
   ]
  },
  {
   "cell_type": "code",
   "execution_count": null,
   "metadata": {
    "collapsed": true
   },
   "outputs": [],
   "source": []
  }
 ],
 "metadata": {
  "kernelspec": {
   "display_name": "Python 3",
   "language": "python",
   "name": "python3"
  },
  "language_info": {
   "codemirror_mode": {
    "name": "ipython",
    "version": 3
   },
   "file_extension": ".py",
   "mimetype": "text/x-python",
   "name": "python",
   "nbconvert_exporter": "python",
   "pygments_lexer": "ipython3",
   "version": "3.6.3"
  }
 },
 "nbformat": 4,
 "nbformat_minor": 2
}
