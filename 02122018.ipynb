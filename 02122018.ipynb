{
 "cells": [
  {
   "cell_type": "markdown",
   "metadata": {},
   "source": [
    "# Task 9\n",
    "Task #9 for beginning of Monday's class. Design a Python class called Card, and then  a Python class called Deck that represents a deck of cards. The cards should have four suits (hearts spades clubs and diamonds) and go from 2 to Ace like normal playing cards.\n",
    "\n",
    "Make a list of attributes and methods that your Card and Deck classes should have, and implement them as time permits."
   ]
  },
  {
   "cell_type": "code",
   "execution_count": null,
   "metadata": {
    "collapsed": true
   },
   "outputs": [],
   "source": [
    "#v1\n",
    "class Card:\n",
    "    '''Represents the different types of cards.'''\n",
    "    def __init__(self, suit, rank):\n",
    "        self.suit = suit\n",
    "        self.color = color\n",
    "        self.number = number\n",
    "        print('(Initialized Card: {})'.format(self.suit))\n",
    "\n",
    "    def tell(self):\n",
    "        '''Tell my details.'''\n",
    "        print('Suit:\"{}\" Color:\"{}\" Number:\"{}\"'.format(self.suit, self.color, self.name), end=\" \")\n",
    "\n",
    "\n",
    "class Deck(Card):\n",
    "    '''Represents a deck of cards.'''\n",
    "    \n",
    "    def __init__(self, suit, rank, amount):\n",
    "        Card.__init__(self, rank)\n",
    "        self.amount = amount\n",
    "        \n",
    "        suits = ['clubs', 'diamonds', 'hearts','spades']\n",
    "        ranks = ['ace','2','3','4','5','6','7','8','9','10','jack','queen','king']\n",
    "        deck_of_cards = []\n",
    "            for i in range(5)\n",
    "                Card.suit = suits[i]\n",
    "                for j in range(14)\n",
    "                    Card.rank = ranks[i]\n",
    "        \n",
    "\n",
    "    def tell(self):\n",
    "        # why do we need to repeat SchoolMember here?\n",
    "        # as in, why can't we just use the print statement?\n",
    "        # (answer in comments)\n",
    "        SchoolMember.tell(self)\n",
    "        print('Salary: \"{:d}\"'.format(self.salary))"
   ]
  },
  {
   "cell_type": "code",
   "execution_count": 13,
   "metadata": {},
   "outputs": [
    {
     "name": "stdout",
     "output_type": "stream",
     "text": [
      "this card is a 4 of clubs\n",
      "this card is a ace of clubs\n",
      "this card is a 2 of clubs\n",
      "this card is a 3 of clubs\n",
      "this card is a 4 of clubs\n",
      "this card is a 5 of clubs\n",
      "this card is a 6 of clubs\n",
      "this card is a 7 of clubs\n",
      "this card is a 8 of clubs\n",
      "this card is a 9 of clubs\n",
      "this card is a 10 of clubs\n",
      "this card is a jack of clubs\n",
      "this card is a queen of clubs\n",
      "this card is a king of clubs\n",
      "this card is a ace of diamonds\n",
      "this card is a 2 of diamonds\n",
      "this card is a 3 of diamonds\n",
      "this card is a 4 of diamonds\n",
      "this card is a 5 of diamonds\n",
      "this card is a 6 of diamonds\n",
      "this card is a 7 of diamonds\n",
      "this card is a 8 of diamonds\n",
      "this card is a 9 of diamonds\n",
      "this card is a 10 of diamonds\n",
      "this card is a jack of diamonds\n",
      "this card is a queen of diamonds\n",
      "this card is a king of diamonds\n",
      "this card is a ace of hearts\n",
      "this card is a 2 of hearts\n",
      "this card is a 3 of hearts\n",
      "this card is a 4 of hearts\n",
      "this card is a 5 of hearts\n",
      "this card is a 6 of hearts\n",
      "this card is a 7 of hearts\n",
      "this card is a 8 of hearts\n",
      "this card is a 9 of hearts\n",
      "this card is a 10 of hearts\n",
      "this card is a jack of hearts\n",
      "this card is a queen of hearts\n",
      "this card is a king of hearts\n",
      "this card is a ace of spades\n",
      "this card is a 2 of spades\n",
      "this card is a 3 of spades\n",
      "this card is a 4 of spades\n",
      "this card is a 5 of spades\n",
      "this card is a 6 of spades\n",
      "this card is a 7 of spades\n",
      "this card is a 8 of spades\n",
      "this card is a 9 of spades\n",
      "this card is a 10 of spades\n",
      "this card is a jack of spades\n",
      "this card is a queen of spades\n",
      "this card is a king of spades\n"
     ]
    },
    {
     "ename": "TypeError",
     "evalue": "__str__ returned non-string (type NoneType)",
     "output_type": "error",
     "traceback": [
      "\u001b[0;31m---------------------------------------------------------------------------\u001b[0m",
      "\u001b[0;31mTypeError\u001b[0m                                 Traceback (most recent call last)",
      "\u001b[0;32m<ipython-input-13-4d8b35aec396>\u001b[0m in \u001b[0;36m<module>\u001b[0;34m()\u001b[0m\n\u001b[1;32m     33\u001b[0m \u001b[0;34m\u001b[0m\u001b[0m\n\u001b[1;32m     34\u001b[0m \u001b[0mmy_deck\u001b[0m \u001b[0;34m=\u001b[0m \u001b[0mDeck\u001b[0m\u001b[0;34m(\u001b[0m\u001b[0;34m)\u001b[0m\u001b[0;34m\u001b[0m\u001b[0m\n\u001b[0;32m---> 35\u001b[0;31m \u001b[0mprint\u001b[0m\u001b[0;34m(\u001b[0m\u001b[0mmy_deck\u001b[0m\u001b[0;34m)\u001b[0m\u001b[0;34m\u001b[0m\u001b[0m\n\u001b[0m",
      "\u001b[0;31mTypeError\u001b[0m: __str__ returned non-string (type NoneType)"
     ]
    }
   ],
   "source": [
    "# v2\n",
    "\n",
    "class Card:\n",
    "    '''Represents the different types of cards.'''\n",
    "    SUITS = ['clubs', 'diamonds', 'hearts','spades']\n",
    "    RANKS = ['ace','2','3','4','5','6','7','8','9','10','jack','queen','king']    \n",
    "    \n",
    "    def __init__(self, suit, rank):\n",
    "        # do error checking here\n",
    "        self.suit = suit\n",
    "        self.rank = rank\n",
    "        #print('(Initialized Card: {})'.format(self.suit))\n",
    "\n",
    "    def __str__(self):\n",
    "        return \"this card is a {} of {}\".format(self.rank, self.suit)\n",
    "\n",
    "class Deck:  #ask questions about inheritance\n",
    "    '''Represents a deck of cards.'''\n",
    "    \n",
    "    def __init__(self):\n",
    "        self.deck_of_cards = []\n",
    "        for suit in Card.SUITS:\n",
    "            for rank in Card.RANKS:\n",
    "                self.deck_of_cards.append(Card(suit,rank))\n",
    "    \n",
    "    def __str__(self):\n",
    "        for card in self.deck_of_cards:\n",
    "            print(\"{}\".format(card))\n",
    "        \n",
    "\n",
    "my_card = Card('clubs','4')\n",
    "print(my_card)\n",
    "\n",
    "my_deck = Deck()\n",
    "print(my_deck)"
   ]
  },
  {
   "cell_type": "code",
   "execution_count": 9,
   "metadata": {},
   "outputs": [
    {
     "data": {
      "text/plain": [
       "52"
      ]
     },
     "execution_count": 9,
     "metadata": {},
     "output_type": "execute_result"
    }
   ],
   "source": [
    "len(my_deck.deck_of_cards)"
   ]
  },
  {
   "cell_type": "code",
   "execution_count": null,
   "metadata": {
    "collapsed": true
   },
   "outputs": [],
   "source": []
  }
 ],
 "metadata": {
  "kernelspec": {
   "display_name": "Python 3",
   "language": "python",
   "name": "python3"
  },
  "language_info": {
   "codemirror_mode": {
    "name": "ipython",
    "version": 3
   },
   "file_extension": ".py",
   "mimetype": "text/x-python",
   "name": "python",
   "nbconvert_exporter": "python",
   "pygments_lexer": "ipython3",
   "version": "3.6.3"
  }
 },
 "nbformat": 4,
 "nbformat_minor": 2
}
